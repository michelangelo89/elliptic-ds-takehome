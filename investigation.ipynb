{
 "cells": [
  {
   "cell_type": "code",
   "execution_count": 2,
   "id": "cd1e4045",
   "metadata": {
    "vscode": {
     "languageId": "plaintext"
    }
   },
   "outputs": [
    {
     "data": {
      "text/html": [
       "<div>\n",
       "<style scoped>\n",
       "    .dataframe tbody tr th:only-of-type {\n",
       "        vertical-align: middle;\n",
       "    }\n",
       "\n",
       "    .dataframe tbody tr th {\n",
       "        vertical-align: top;\n",
       "    }\n",
       "\n",
       "    .dataframe thead th {\n",
       "        text-align: right;\n",
       "    }\n",
       "</style>\n",
       "<table border=\"1\" class=\"dataframe\">\n",
       "  <thead>\n",
       "    <tr style=\"text-align: right;\">\n",
       "      <th></th>\n",
       "      <th>unixtimestamp</th>\n",
       "      <th>transaction</th>\n",
       "      <th>fromAddress</th>\n",
       "      <th>toAddress</th>\n",
       "      <th>token</th>\n",
       "      <th>token_amount</th>\n",
       "      <th>usd_value</th>\n",
       "      <th>datetime</th>\n",
       "    </tr>\n",
       "  </thead>\n",
       "  <tbody>\n",
       "    <tr>\n",
       "      <th>0</th>\n",
       "      <td>1735742709</td>\n",
       "      <td>8a8b7e3c51f1e15e8fb77d38e5f44fcc319a2053bee4d5...</td>\n",
       "      <td>TJ7hhYhVhaxNx6BPyq7yFpqZrQULL3JSdb</td>\n",
       "      <td>TPq6UAn94sKqVmtxybdMemVWiDcpQhAx43</td>\n",
       "      <td>USDT</td>\n",
       "      <td>846000000</td>\n",
       "      <td>844.310401</td>\n",
       "      <td>2025-01-01 14:45:09</td>\n",
       "    </tr>\n",
       "    <tr>\n",
       "      <th>1</th>\n",
       "      <td>1735742709</td>\n",
       "      <td>757cdf71a34741a5a6e1c085dd2408e4f6f49a67a77a6b...</td>\n",
       "      <td>TEmb2qSrWtmsx4F8aijGAy3CRApKLx3JtT</td>\n",
       "      <td>TCZ4tPauSPj6bAoYbJYq8TQvaYziXiZqLS</td>\n",
       "      <td>USDT</td>\n",
       "      <td>279000000</td>\n",
       "      <td>278.442792</td>\n",
       "      <td>2025-01-01 14:45:09</td>\n",
       "    </tr>\n",
       "    <tr>\n",
       "      <th>2</th>\n",
       "      <td>1735742709</td>\n",
       "      <td>12aa49b2915a33f37da62b1c04451cc96c3aeea7bbbc1c...</td>\n",
       "      <td>TMQkP3upAn4reUUw5HeXVWy6PjhWw3kVbz</td>\n",
       "      <td>TWAudzu86TJ8DtHb4wBvxWx2EpmqtcD3Wb</td>\n",
       "      <td>TRX</td>\n",
       "      <td>4300000</td>\n",
       "      <td>1.089288</td>\n",
       "      <td>2025-01-01 14:45:09</td>\n",
       "    </tr>\n",
       "    <tr>\n",
       "      <th>3</th>\n",
       "      <td>1735742709</td>\n",
       "      <td>faa2668b2864f2934b210c30bb1dd18d01c5eb95721732...</td>\n",
       "      <td>TLj5jNLzaoR94c5WUH9uxpQAY3RZT6gh2y</td>\n",
       "      <td>TWg8JWoB646F6DRAU8vkKMUsSiKa4htV2v</td>\n",
       "      <td>USDT</td>\n",
       "      <td>100166300</td>\n",
       "      <td>99.966252</td>\n",
       "      <td>2025-01-01 14:45:09</td>\n",
       "    </tr>\n",
       "    <tr>\n",
       "      <th>4</th>\n",
       "      <td>1735742709</td>\n",
       "      <td>8dcbb9d945567e210ff8d86e8157c5fc75ca0a557d6568...</td>\n",
       "      <td>TL6h4ANWARrjTnSK1HYNfDc9m5HV9GDKoZ</td>\n",
       "      <td>TTCtwXVkHwmcEQ9od7aW8WMp72dmzxMFhB</td>\n",
       "      <td>USDT</td>\n",
       "      <td>52460000</td>\n",
       "      <td>52.355229</td>\n",
       "      <td>2025-01-01 14:45:09</td>\n",
       "    </tr>\n",
       "  </tbody>\n",
       "</table>\n",
       "</div>"
      ],
      "text/plain": [
       "   unixtimestamp                                        transaction  \\\n",
       "0     1735742709  8a8b7e3c51f1e15e8fb77d38e5f44fcc319a2053bee4d5...   \n",
       "1     1735742709  757cdf71a34741a5a6e1c085dd2408e4f6f49a67a77a6b...   \n",
       "2     1735742709  12aa49b2915a33f37da62b1c04451cc96c3aeea7bbbc1c...   \n",
       "3     1735742709  faa2668b2864f2934b210c30bb1dd18d01c5eb95721732...   \n",
       "4     1735742709  8dcbb9d945567e210ff8d86e8157c5fc75ca0a557d6568...   \n",
       "\n",
       "                          fromAddress                           toAddress  \\\n",
       "0  TJ7hhYhVhaxNx6BPyq7yFpqZrQULL3JSdb  TPq6UAn94sKqVmtxybdMemVWiDcpQhAx43   \n",
       "1  TEmb2qSrWtmsx4F8aijGAy3CRApKLx3JtT  TCZ4tPauSPj6bAoYbJYq8TQvaYziXiZqLS   \n",
       "2  TMQkP3upAn4reUUw5HeXVWy6PjhWw3kVbz  TWAudzu86TJ8DtHb4wBvxWx2EpmqtcD3Wb   \n",
       "3  TLj5jNLzaoR94c5WUH9uxpQAY3RZT6gh2y  TWg8JWoB646F6DRAU8vkKMUsSiKa4htV2v   \n",
       "4  TL6h4ANWARrjTnSK1HYNfDc9m5HV9GDKoZ  TTCtwXVkHwmcEQ9od7aW8WMp72dmzxMFhB   \n",
       "\n",
       "  token token_amount   usd_value            datetime  \n",
       "0  USDT    846000000  844.310401 2025-01-01 14:45:09  \n",
       "1  USDT    279000000  278.442792 2025-01-01 14:45:09  \n",
       "2   TRX      4300000    1.089288 2025-01-01 14:45:09  \n",
       "3  USDT    100166300   99.966252 2025-01-01 14:45:09  \n",
       "4  USDT     52460000   52.355229 2025-01-01 14:45:09  "
      ]
     },
     "execution_count": 2,
     "metadata": {},
     "output_type": "execute_result"
    }
   ],
   "source": [
    "import pandas as pd\n",
    "\n",
    "# Load dataset\n",
    "df = pd.read_parquet(\"data/tron_blockchain_interview_data.parquet\")\n",
    "\n",
    "# Convert timestamp\n",
    "df['datetime'] = pd.to_datetime(df['unixtimestamp'], unit='s')\n",
    "\n",
    "# Preview data\n",
    "df.head()"
   ]
  },
  {
   "cell_type": "code",
   "execution_count": null,
   "id": "7363edf6",
   "metadata": {
    "vscode": {
     "languageId": "plaintext"
    }
   },
   "outputs": [],
   "source": []
  }
 ],
 "metadata": {
  "kernelspec": {
   "display_name": "Python 3 (ipykernel)",
   "language": "python",
   "name": "python3"
  },
  "language_info": {
   "codemirror_mode": {
    "name": "ipython",
    "version": 3
   },
   "file_extension": ".py",
   "mimetype": "text/x-python",
   "name": "python",
   "nbconvert_exporter": "python",
   "pygments_lexer": "ipython3",
   "version": "3.12.1"
  }
 },
 "nbformat": 4,
 "nbformat_minor": 5
}
